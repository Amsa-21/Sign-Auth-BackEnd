{
 "cells": [
  {
   "cell_type": "code",
   "execution_count": 20,
   "metadata": {},
   "outputs": [],
   "source": [
    "import requests\n",
    "from cryptography.hazmat.primitives import hashes\n",
    "from cryptography.hazmat.primitives.asymmetric import padding\n",
    "from cryptography.hazmat.primitives import serialization\n",
    "from cryptography.hazmat.backends import default_backend"
   ]
  },
  {
   "cell_type": "code",
   "execution_count": 31,
   "metadata": {},
   "outputs": [
    {
     "name": "stdout",
     "output_type": "stream",
     "text": [
      "Signature verified for timestamp: 2024-07-23T10:15:04.038610\n"
     ]
    }
   ],
   "source": [
    "data = \"Message to be timestamped\"\n",
    "\n",
    "response = requests.post('http://localhost:8090/timestamp', json={'data': data})\n",
    "if response.status_code == 200:\n",
    "  response_data = response.json()\n",
    "  timestamp = response_data['timestamp']\n",
    "  signature = bytes.fromhex(response_data['signature'])\n",
    "  public_key_pem = response_data['public_key']\n",
    "\n",
    "  public_key = serialization.load_pem_public_key(\n",
    "    public_key_pem.encode(),\n",
    "    backend=default_backend()\n",
    "  )\n",
    "\n",
    "  data_hash = hashes.Hash(hashes.SHA256(), backend=default_backend())\n",
    "  data_hash.update(data.encode())\n",
    "  digest = data_hash.finalize()\n",
    "\n",
    "  try:\n",
    "    public_key.verify(\n",
    "      signature,\n",
    "      digest,\n",
    "      padding.PSS(\n",
    "        mgf=padding.MGF1(hashes.SHA256()),\n",
    "        salt_length=padding.PSS.MAX_LENGTH\n",
    "      ),\n",
    "      hashes.SHA256()\n",
    "    )\n",
    "    print(f\"Signature verified for timestamp: {timestamp}\")\n",
    "  except Exception as e:\n",
    "    print(f\"Verification failed: {e}\")\n",
    "else:\n",
    "  print(\"Failed to get timestamp\")"
   ]
  },
  {
   "cell_type": "code",
   "execution_count": 32,
   "metadata": {},
   "outputs": [
    {
     "data": {
      "text/plain": [
       "b'\"U\\xee\\xd3U\\xd8T-\\x0c\\x93u\\xd7B\\xff\\xc8\\xd5!\\xc8K\\xb8;\\x86\\xe7\\xdd\\x87\\xa1\\xa5\\xd3\\x8cs\\x9eC\\x19\\x01\\x1b\\xcdQ\\x97\\x8a\\xf7<\\xcaTc\\xa9B\\xf1\\x8d\\x98^\\x0bc\\xae\\xfb\\x90\\xedQ\\xb2\\x92\\xf4\\xea\\xfa\\xfbz\\xf1=q}\\xeb\\x86\\x0f\\xd2\\xd5\\xe0\\xad6Rt\\'3\\xbe\\x1d1*\\x10\\xbdU\\xbe\\xc0\\x80\\x90\\xae\\xb5\\x8et\\xfe\\x9cX^&\\xdczQp\\'Lg\\xd54D\\x05Nm\\xb9\\xc1\\xbc\\x05\\x1a\\xce\\xd4r\\x13}\\x138v\\x19\\x9d0\\xce\\x91\\xeb\\x85\\xa9\\x1f\\x1d\\xdc\\xf0*\\xea=\\x07n\\xcb\\x07\\x8d\\xc5\\xd8\\xd7U\\xc1A\\x15GYc\\xb6|mq\\x01\\x15\\x0b\\x99\\xe7\\xd0\\xac\\x0c\\xcb\\xe7\\xe10l\\xec\\x89@I\\xb2\\n\\xf6\\xd3tH\\xb5\\x82*D\\xb5h\\xfe\\x05\\xcd\\xf6\\xf4X\\xd9\\xa0\\x82\\xdf\\x1a\\xb9\\xd7\\xef\\xb3\\x03\\xd0\\\\\\x8a\\x14\\xdd\\x98\\x10\\xcc \\xf5\\xc9\\xde\\x18W\\x90\\xa4 \\xff\\x9e\\xd1)\\xcf\\xe1\\xaa3\\x88Z\\xcc\\xe1\\xc3\\xac\\xd8<MC\\x86\\xb8\\xc7\\x00{\\xcc\\xc2\\x15\\x83\\xd5\\xaa$\\x06\\xa8u\\x17'"
      ]
     },
     "execution_count": 32,
     "metadata": {},
     "output_type": "execute_result"
    }
   ],
   "source": [
    "signature"
   ]
  },
  {
   "cell_type": "code",
   "execution_count": 33,
   "metadata": {},
   "outputs": [
    {
     "data": {
      "text/plain": [
       "'-----BEGIN PUBLIC KEY-----\\nMIIBIjANBgkqhkiG9w0BAQEFAAOCAQ8AMIIBCgKCAQEAqWGPKO6eEo8hEyHGyhop\\nrND4wIsJK/HYR/kE+9sT04NrWOHs21YWKATYu0ze/8JTSucTdhw7lu3uBAeiFCxa\\nC6vpy+Lx9lQ/hSwcTcNWsdr/SjtjjoLqGTE5QNZrN1JtHTwevyD6HM4FbJMco2Wy\\nR34eIR/A66rCzftQX/8FIMjpapfyuJ6CKfn040e6dbJfUC5IZHNVGORwzSsQ3xwf\\nDc8/GXt9ETp3IZALvbcn/Xn+dinEvBMT9fGZU+Q4VMuDDZzqmi8bgvf6qZQkN1Eo\\nO2hnvRMKdeoGCVCUxd/EIv02ZDHvLoMKOySHWbHB3VGVvXJyd6QPizAOdftn0vQA\\nfQIDAQAB\\n-----END PUBLIC KEY-----\\n'"
      ]
     },
     "execution_count": 33,
     "metadata": {},
     "output_type": "execute_result"
    }
   ],
   "source": [
    "public_key_pem"
   ]
  },
  {
   "cell_type": "code",
   "execution_count": null,
   "metadata": {},
   "outputs": [],
   "source": []
  }
 ],
 "metadata": {
  "kernelspec": {
   "display_name": ".env",
   "language": "python",
   "name": "python3"
  },
  "language_info": {
   "codemirror_mode": {
    "name": "ipython",
    "version": 3
   },
   "file_extension": ".py",
   "mimetype": "text/x-python",
   "name": "python",
   "nbconvert_exporter": "python",
   "pygments_lexer": "ipython3",
   "version": "3.12.3"
  }
 },
 "nbformat": 4,
 "nbformat_minor": 2
}
